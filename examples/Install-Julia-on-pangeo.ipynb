{
 "cells": [
  {
   "cell_type": "markdown",
   "id": "guilty-concentration",
   "metadata": {},
   "source": [
    "# Install Julia\n"
   ]
  },
  {
   "cell_type": "markdown",
   "id": "fourth-stuff",
   "metadata": {},
   "source": [
    "This python notebook installs Julia on [Pangeo Cloud](https://pangeo.io/cloud.html) or the [Planterary Computer](https://planetarycomputer.microsoft.com/) at the version specified by the environement variable `JULIA_VERSION` and install all package from `JULIA_PACKAGES` (space separated). This can take several minutes.⌛\n",
    "After installation completes, you should be able to open a new notebook with the Julia kernel."
   ]
  },
  {
   "cell_type": "code",
   "execution_count": null,
   "id": "thick-front",
   "metadata": {},
   "outputs": [],
   "source": [
    "%env JULIA_VERSION=1.7.0"
   ]
  },
  {
   "cell_type": "code",
   "execution_count": null,
   "id": "weird-journalism",
   "metadata": {},
   "outputs": [],
   "source": [
    "%env JULIA_PACKAGES=IJulia PyPlot HTTP JSON3 Zarr CFTime PyCall URIs Images"
   ]
  },
  {
   "cell_type": "code",
   "execution_count": null,
   "id": "de229a57-32bf-4e65-8672-ad47e4273278",
   "metadata": {},
   "outputs": [],
   "source": [
    "%cd ~\n",
    "!mkdir -p ~/opt\n",
    "!JV=( ${JULIA_VERSION//./ } ); curl -O \"https://julialang-s3.julialang.org/bin/linux/x64/${JV[0]}.${JV[1]}/julia-$JULIA_VERSION-linux-x86_64.tar.gz\"\n",
    "!tar -C opt -zxf julia-$JULIA_VERSION-linux-x86_64.tar.gz"
   ]
  },
  {
   "cell_type": "code",
   "execution_count": null,
   "id": "6401de61-590a-4bad-b63d-f057d9966b6b",
   "metadata": {},
   "outputs": [],
   "source": [
    "!opt/julia-$JULIA_VERSION/bin/julia --eval 'using Pkg; Pkg.add(split(ENV[\"JULIA_PACKAGES\"]))'\n",
    "!opt/julia-$JULIA_VERSION/bin/julia --eval 'using Pkg; Pkg.add(url=\"https://github.com/JuliaClimate/STAC.jl\", rev=\"main\")' "
   ]
  },
  {
   "cell_type": "code",
   "execution_count": null,
   "id": "french-ridge",
   "metadata": {},
   "outputs": [],
   "source": [
    "!ls ~/opt"
   ]
  },
  {
   "cell_type": "code",
   "execution_count": null,
   "id": "b60f51e4-07ff-475e-b6d8-1109a7636f25",
   "metadata": {},
   "outputs": [],
   "source": [
    "!ls ~/.julia/packages"
   ]
  }
 ],
 "metadata": {
  "kernelspec": {
   "display_name": "Python 3 (ipykernel)",
   "language": "python",
   "name": "python3"
  },
  "language_info": {
   "codemirror_mode": {
    "name": "ipython",
    "version": 3
   },
   "file_extension": ".py",
   "mimetype": "text/x-python",
   "name": "python",
   "nbconvert_exporter": "python",
   "pygments_lexer": "ipython3",
   "version": "3.8.12"
  }
 },
 "nbformat": 4,
 "nbformat_minor": 5
}
