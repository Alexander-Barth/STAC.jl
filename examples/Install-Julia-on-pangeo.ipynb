{
 "cells": [
  {
   "cell_type": "markdown",
   "id": "guilty-concentration",
   "metadata": {},
   "source": [
    "# Install Julia on Pangeo\n"
   ]
  },
  {
   "cell_type": "markdown",
   "id": "fourth-stuff",
   "metadata": {},
   "source": [
    "The notebook install Julia on Pangeo at the version specified by the environement variable `JULIA_VERSION` and install all package from `JULIA_PACKAGES` (space separated). This can take several minutes.⌛\n",
    "After installation completes, you should be able to open a new notebook with the Julia kernel."
   ]
  },
  {
   "cell_type": "code",
   "execution_count": null,
   "id": "thick-front",
   "metadata": {},
   "outputs": [],
   "source": [
    "%env JULIA_VERSION=1.7.0"
   ]
  },
  {
   "cell_type": "code",
   "execution_count": null,
   "id": "weird-journalism",
   "metadata": {},
   "outputs": [],
   "source": [
    "%env JULIA_PACKAGES=IJulia PyPlot HTTP JSON3 Zarr CFTime"
   ]
  },
  {
   "cell_type": "code",
   "execution_count": null,
   "id": "turkish-injection",
   "metadata": {},
   "outputs": [],
   "source": [
    "%cd ~\n",
    "!mkdir -p ~/opt\n",
    "!JV=( ${JULIA_VERSION//./ } ); curl -O \"https://julialang-s3.julialang.org/bin/linux/x64/${JV[0]}.${JV[1]}/julia-$JULIA_VERSION-linux-x86_64.tar.gz\"\n",
    "!tar -C opt -zxf julia-$JULIA_VERSION-linux-x86_64.tar.gz\n",
    "!opt/julia-$JULIA_VERSION/bin/julia --eval 'using Pkg; Pkg.add(split(ENV[\"JULIA_PACKAGES\"]))' "
   ]
  },
  {
   "cell_type": "code",
   "execution_count": null,
   "id": "french-ridge",
   "metadata": {},
   "outputs": [],
   "source": [
    "!ls ~/opt"
   ]
  }
 ],
 "metadata": {
  "kernelspec": {
   "display_name": "Python 3",
   "language": "python",
   "name": "python3"
  },
  "language_info": {
   "codemirror_mode": {
    "name": "ipython",
    "version": 3
   },
   "file_extension": ".py",
   "mimetype": "text/x-python",
   "name": "python",
   "nbconvert_exporter": "python",
   "pygments_lexer": "ipython3",
   "version": "3.8.6"
  }
 },
 "nbformat": 4,
 "nbformat_minor": 5
}
